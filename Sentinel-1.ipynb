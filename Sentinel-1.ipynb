{
 "cells": [
  {
   "cell_type": "code",
   "execution_count": 8,
   "id": "aaad5ee6-dbb1-4a11-877d-6db1a617f3ab",
   "metadata": {
    "papermill": {
     "duration": 2.367544,
     "end_time": "2022-10-13T12:50:14.887368",
     "exception": false,
     "start_time": "2022-10-13T12:50:12.519824",
     "status": "completed"
    },
    "tags": []
   },
   "outputs": [],
   "source": [
    "# xcube_sh imports\n",
    "from xcube_sh.cube import open_cube\n",
    "from xcube_sh.config import CubeConfig\n",
    "from xcube_sh.observers import Observers\n",
    "from xcube_sh.viewer import ViewerServer\n",
    "from xcube_sh.sentinelhub import SentinelHub\n",
    "\n",
    "# xcube imports\n",
    "from xcube.core.maskset import MaskSet\n",
    "from xcube.core.geom import mask_dataset_by_geometry\n",
    "from xcube.core.geom import clip_dataset_by_geometry\n",
    "from xcube.core.evaluate import evaluate_dataset\n",
    "\n",
    "# Various utilities\n",
    "import json\n",
    "from datetime import date, timedelta, datetime\n",
    "import xarray as xr\n",
    "import shapely.geometry\n",
    "import IPython.display\n",
    "import zarr\n",
    "import numpy as np\n",
    "\n",
    "import pandas as pd\n",
    "import geopandas as gpd"
   ]
  },
  {
   "cell_type": "markdown",
   "id": "a61805b0-eb3a-4848-a6a9-330ea3a44716",
   "metadata": {
    "papermill": {
     "duration": 0.011333,
     "end_time": "2022-10-13T12:50:14.909552",
     "exception": false,
     "start_time": "2022-10-13T12:50:14.898219",
     "status": "completed"
    },
    "tags": []
   },
   "source": [
    "To present the timeline of NDVI values, you will need to create a linear chart. \n",
    " \n",
    "To create the chart, it´s neccessary to import the Matplot library (matplotlib) first. The matplotlib is a plotting library which renders the plots."
   ]
  },
  {
   "cell_type": "code",
   "execution_count": 2,
   "id": "4967c240-b0cc-46ae-9645-bff8018654e6",
   "metadata": {
    "papermill": {
     "duration": 0.446379,
     "end_time": "2022-10-13T12:50:15.367298",
     "exception": false,
     "start_time": "2022-10-13T12:50:14.920919",
     "status": "completed"
    },
    "tags": []
   },
   "outputs": [],
   "source": [
    "import matplotlib.pyplot as plt"
   ]
  },
  {
   "cell_type": "markdown",
   "id": "253d2c26-2a0a-4b80-a4cc-ef4a371ec36b",
   "metadata": {
    "papermill": {
     "duration": 0.01071,
     "end_time": "2022-10-13T12:50:15.389751",
     "exception": false,
     "start_time": "2022-10-13T12:50:15.379041",
     "status": "completed"
    },
    "tags": []
   },
   "source": [
    "#### Specification of a geographical area of interest\n",
    "The next step is to specify the area of interest - i.e. a geographical area, which the cube should cover and for which the NDVI will be calculated. \n",
    "\n",
    "The area of interest is specified via bounding box. You have to specify geographical coordinates of each corner of this bounding box.\n",
    "\n",
    "For this demo, we are focussing on small coastal area near Kiel in Northern Germany (Baltic Sea)."
   ]
  },
  {
   "cell_type": "code",
   "execution_count": 3,
   "id": "cd56fe44-6051-473d-8c70-3883b000ea5c",
   "metadata": {
    "papermill": {
     "duration": 0.027193,
     "end_time": "2022-10-13T12:50:15.427902",
     "exception": false,
     "start_time": "2022-10-13T12:50:15.400709",
     "status": "completed"
    },
    "tags": [
     "parameters"
    ]
   },
   "outputs": [],
   "source": [
    "x1 = 11.012421\n",
    "y1 = 46.659805\n",
    "x2 = 11.505432\n",
    "y2 = 47.009289"
   ]
  },
  {
   "cell_type": "code",
   "execution_count": 4,
   "id": "82e25903-4114-4d77-afcc-9a414c4c303f",
   "metadata": {
    "papermill": {
     "duration": 0.024495,
     "end_time": "2022-10-13T12:50:15.463770",
     "exception": false,
     "start_time": "2022-10-13T12:50:15.439275",
     "status": "completed"
    },
    "tags": []
   },
   "outputs": [],
   "source": [
    "bbox = x1, y1, x2, y2"
   ]
  },
  {
   "cell_type": "markdown",
   "id": "49a990f0-3e81-41ec-9100-2ea95ff0aabd",
   "metadata": {
    "papermill": {
     "duration": 0.012089,
     "end_time": "2022-10-13T12:50:15.487744",
     "exception": false,
     "start_time": "2022-10-13T12:50:15.475655",
     "status": "completed"
    },
    "tags": []
   },
   "source": [
    " #### Visualisation of area of interest\n",
    " To check whether the area of interest has been specified correctly, you can integrate a simple map allowing visualisation of this area."
   ]
  },
  {
   "cell_type": "markdown",
   "id": "b23b1971-36d9-42b5-a6fa-08ba1486cb66",
   "metadata": {
    "papermill": {
     "duration": 0.011439,
     "end_time": "2022-10-13T12:50:15.510134",
     "exception": false,
     "start_time": "2022-10-13T12:50:15.498695",
     "status": "completed"
    },
    "tags": []
   },
   "source": [
    "Visualize the bounding box."
   ]
  },
  {
   "cell_type": "code",
   "execution_count": 5,
   "id": "441e32dd-bceb-4078-8e8a-b5c2fd3817d2",
   "metadata": {
    "papermill": {
     "duration": 0.034139,
     "end_time": "2022-10-13T12:50:15.557853",
     "exception": false,
     "start_time": "2022-10-13T12:50:15.523714",
     "status": "completed"
    },
    "tags": []
   },
   "outputs": [
    {
     "data": {
      "application/geo+json": {
       "coordinates": [
        [
         [
          11.505432,
          46.659805
         ],
         [
          11.505432,
          47.009289
         ],
         [
          11.012421,
          47.009289
         ],
         [
          11.012421,
          46.659805
         ],
         [
          11.505432,
          46.659805
         ]
        ]
       ],
       "type": "Polygon"
      },
      "text/plain": [
       "<IPython.display.GeoJSON object>"
      ]
     },
     "metadata": {
      "application/geo+json": {
       "expanded": false,
       "root": "root"
      }
     },
     "output_type": "display_data"
    }
   ],
   "source": [
    "IPython.display.GeoJSON(shapely.geometry.box(*bbox).__geo_interface__)"
   ]
  },
  {
   "cell_type": "markdown",
   "id": "8bd824b1-2e2a-4550-8034-1e2b75af39b3",
   "metadata": {
    "papermill": {
     "duration": 0.011485,
     "end_time": "2022-10-13T12:50:15.584241",
     "exception": false,
     "start_time": "2022-10-13T12:50:15.572756",
     "status": "completed"
    },
    "tags": []
   },
   "source": [
    " #### Setting the spatial resolution of the cube\n",
    " The next step is to specify the spatial resolution (pixel size) on which the raster data (in this case Sentinel-2 imageries) should be resampled and stored in.\n",
    " \n",
    "In this case, the desired resolution is roughly 10 meters per pixel:\n"
   ]
  },
  {
   "cell_type": "code",
   "execution_count": 6,
   "id": "3c2802d1-7321-41d3-aa71-72646093142a",
   "metadata": {
    "papermill": {
     "duration": 0.02234,
     "end_time": "2022-10-13T12:50:15.618741",
     "exception": false,
     "start_time": "2022-10-13T12:50:15.596401",
     "status": "completed"
    },
    "tags": []
   },
   "outputs": [],
   "source": [
    "spatial_res = 0.00018   # = 10.038 meters in degree>"
   ]
  },
  {
   "cell_type": "markdown",
   "id": "c16b1864-54a0-4fb2-aaac-4d14237203f9",
   "metadata": {},
   "source": [
    "#### List all the available dataset"
   ]
  },
  {
   "cell_type": "code",
   "execution_count": 9,
   "id": "f2f193d7-8577-4800-a113-43f0ee596e7f",
   "metadata": {},
   "outputs": [
    {
     "data": {
      "text/plain": [
       "['LMSSL1',\n",
       " 'S3OLCI',\n",
       " 'S3SLSTR',\n",
       " 'S2L1C',\n",
       " 'HLS',\n",
       " 'LOTL2',\n",
       " 'DEM',\n",
       " 'LETML2',\n",
       " 'LTML1',\n",
       " 'LTML2',\n",
       " 'S5PL2',\n",
       " 'S2L2A',\n",
       " 'MODIS',\n",
       " 'CUSTOM',\n",
       " 'LETML1',\n",
       " 'S1GRD',\n",
       " 'LOTL1']"
      ]
     },
     "execution_count": 9,
     "metadata": {},
     "output_type": "execute_result"
    }
   ],
   "source": [
    "SH = SentinelHub()\n",
    "SH.dataset_names"
   ]
  },
  {
   "cell_type": "markdown",
   "id": "7b7f6ea4-ba75-44b2-98ea-58268f63d626",
   "metadata": {},
   "source": [
    "#### Getting the metadata of the collection we want to use\n",
    "Get the metadata of the collection we want to load. We need this information to make correct choices when subsetting our data, e.g., band names, spatial and temporal extents etc."
   ]
  },
  {
   "cell_type": "code",
   "execution_count": 10,
   "id": "eb2a253c-892e-4fc2-92b6-e5c726d19684",
   "metadata": {},
   "outputs": [
    {
     "data": {
      "text/plain": [
       "['VV', 'HH', 'VH', 'localIncidenceAngle', 'scatteringArea', 'shadowMask', 'HV']"
      ]
     },
     "execution_count": 10,
     "metadata": {},
     "output_type": "execute_result"
    }
   ],
   "source": [
    "SH.band_names('S1GRD')"
   ]
  },
  {
   "cell_type": "markdown",
   "id": "f2f9bee4-f38f-4678-9c46-9f702497ac5c",
   "metadata": {
    "papermill": {
     "duration": 0.011206,
     "end_time": "2022-10-13T12:50:15.643090",
     "exception": false,
     "start_time": "2022-10-13T12:50:15.631884",
     "status": "completed"
    },
    "tags": []
   },
   "source": [
    "#### Configuring the data content of the cube\n",
    "Now we specify the properties of our cube. \n",
    "First, the satellite and processing level of data to be integrated is specified. In this case, the Sentinel-2 Level 2A data will be used.\n",
    "\n",
    "In the second row, the spectral bands are selected, which should be integarated. As we need to calculate NDVI index, we will need red and NIR bands (B04 and B08 of Sentinel-2).\n",
    "\n",
    "Also, the time range and time period of the cube is specified in this step. In this case, we will be interested in data acquired between 14.5. and 31.7. 2018. A custom days time period will be used."
   ]
  },
  {
   "cell_type": "code",
   "execution_count": 10,
   "id": "a7feb090-c516-4dab-a303-ef847d02b1e0",
   "metadata": {
    "papermill": {
     "duration": 0.03343,
     "end_time": "2022-10-13T12:50:15.692788",
     "exception": false,
     "start_time": "2022-10-13T12:50:15.659358",
     "status": "completed"
    },
    "tags": []
   },
   "outputs": [],
   "source": [
    "start_date = date(2018, 2, 1)\n",
    "end_date = date(2018, 7, 1)\n",
    "bands = ['B02', 'B03', 'B04', 'B11', 'CLM'] # how to get metadata of the cube\n",
    "time_period = '5D'\n",
    "#time_range = [(end_date - timedelta(days=days)).strftime(\"%Y-%m-%d\"), end_date.strftime(\"%Y-%m-%d\")]\n",
    "time_range = [start_date.strftime(\"%Y-%m-%d\"), end_date.strftime(\"%Y-%m-%d\")]\n",
    "cube_config = CubeConfig(dataset_name='S1GRD',\n",
    "                         band_names=bands,\n",
    "                         tile_size=[512, 512],\n",
    "                         bbox=bbox,\n",
    "                         spatial_res=spatial_res,\n",
    "                         time_range=time_range,\n",
    "                         time_period=time_period)"
   ]
  }
 ],
 "metadata": {
  "kernelspec": {
   "display_name": "Python [conda env:edc-default-2022.10-14]",
   "language": "python",
   "name": "conda-env-edc-default-2022.10-14-py"
  },
  "language_info": {
   "codemirror_mode": {
    "name": "ipython",
    "version": 3
   },
   "file_extension": ".py",
   "mimetype": "text/x-python",
   "name": "python",
   "nbconvert_exporter": "python",
   "pygments_lexer": "ipython3",
   "version": "3.9.13"
  }
 },
 "nbformat": 4,
 "nbformat_minor": 5
}
